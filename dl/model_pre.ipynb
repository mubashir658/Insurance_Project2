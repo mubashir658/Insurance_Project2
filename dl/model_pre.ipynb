{
 "cells": [
  {
   "cell_type": "code",
   "execution_count": 1,
   "metadata": {},
   "outputs": [],
   "source": [
    "import numpy as np\n",
    "import matplotlib.pyplot as plt\n",
    "import pandas as pd"
   ]
  },
  {
   "cell_type": "code",
   "execution_count": 2,
   "metadata": {},
   "outputs": [],
   "source": [
    "path='train_BRCpofr.csv'\n",
    "data=pd.read_csv(path)\n",
    "data2=pd.read_csv(path)\n",
    "data3=pd.read_csv(path)"
   ]
  },
  {
   "cell_type": "code",
   "execution_count": 3,
   "metadata": {},
   "outputs": [
    {
     "data": {
      "text/html": [
       "<div>\n",
       "<style scoped>\n",
       "    .dataframe tbody tr th:only-of-type {\n",
       "        vertical-align: middle;\n",
       "    }\n",
       "\n",
       "    .dataframe tbody tr th {\n",
       "        vertical-align: top;\n",
       "    }\n",
       "\n",
       "    .dataframe thead th {\n",
       "        text-align: right;\n",
       "    }\n",
       "</style>\n",
       "<table border=\"1\" class=\"dataframe\">\n",
       "  <thead>\n",
       "    <tr style=\"text-align: right;\">\n",
       "      <th></th>\n",
       "      <th>id</th>\n",
       "      <th>gender</th>\n",
       "      <th>area</th>\n",
       "      <th>qualification</th>\n",
       "      <th>income</th>\n",
       "      <th>marital_status</th>\n",
       "      <th>vintage</th>\n",
       "      <th>claim_amount</th>\n",
       "      <th>num_policies</th>\n",
       "      <th>policy</th>\n",
       "      <th>type_of_policy</th>\n",
       "      <th>cltv</th>\n",
       "    </tr>\n",
       "  </thead>\n",
       "  <tbody>\n",
       "    <tr>\n",
       "      <th>0</th>\n",
       "      <td>1</td>\n",
       "      <td>Male</td>\n",
       "      <td>Urban</td>\n",
       "      <td>Bachelor</td>\n",
       "      <td>5L-10L</td>\n",
       "      <td>1</td>\n",
       "      <td>5</td>\n",
       "      <td>5790</td>\n",
       "      <td>More than 1</td>\n",
       "      <td>A</td>\n",
       "      <td>Platinum</td>\n",
       "      <td>64308</td>\n",
       "    </tr>\n",
       "    <tr>\n",
       "      <th>1</th>\n",
       "      <td>2</td>\n",
       "      <td>Male</td>\n",
       "      <td>Rural</td>\n",
       "      <td>High School</td>\n",
       "      <td>5L-10L</td>\n",
       "      <td>0</td>\n",
       "      <td>8</td>\n",
       "      <td>5080</td>\n",
       "      <td>More than 1</td>\n",
       "      <td>A</td>\n",
       "      <td>Platinum</td>\n",
       "      <td>515400</td>\n",
       "    </tr>\n",
       "    <tr>\n",
       "      <th>2</th>\n",
       "      <td>3</td>\n",
       "      <td>Male</td>\n",
       "      <td>Urban</td>\n",
       "      <td>Bachelor</td>\n",
       "      <td>5L-10L</td>\n",
       "      <td>1</td>\n",
       "      <td>8</td>\n",
       "      <td>2599</td>\n",
       "      <td>More than 1</td>\n",
       "      <td>A</td>\n",
       "      <td>Platinum</td>\n",
       "      <td>64212</td>\n",
       "    </tr>\n",
       "    <tr>\n",
       "      <th>3</th>\n",
       "      <td>4</td>\n",
       "      <td>Female</td>\n",
       "      <td>Rural</td>\n",
       "      <td>High School</td>\n",
       "      <td>5L-10L</td>\n",
       "      <td>0</td>\n",
       "      <td>7</td>\n",
       "      <td>0</td>\n",
       "      <td>More than 1</td>\n",
       "      <td>A</td>\n",
       "      <td>Platinum</td>\n",
       "      <td>97920</td>\n",
       "    </tr>\n",
       "    <tr>\n",
       "      <th>4</th>\n",
       "      <td>5</td>\n",
       "      <td>Male</td>\n",
       "      <td>Urban</td>\n",
       "      <td>High School</td>\n",
       "      <td>More than 10L</td>\n",
       "      <td>1</td>\n",
       "      <td>6</td>\n",
       "      <td>3508</td>\n",
       "      <td>More than 1</td>\n",
       "      <td>A</td>\n",
       "      <td>Gold</td>\n",
       "      <td>59736</td>\n",
       "    </tr>\n",
       "  </tbody>\n",
       "</table>\n",
       "</div>"
      ],
      "text/plain": [
       "   id  gender   area qualification         income  marital_status  vintage  \\\n",
       "0   1    Male  Urban      Bachelor         5L-10L               1        5   \n",
       "1   2    Male  Rural   High School         5L-10L               0        8   \n",
       "2   3    Male  Urban      Bachelor         5L-10L               1        8   \n",
       "3   4  Female  Rural   High School         5L-10L               0        7   \n",
       "4   5    Male  Urban   High School  More than 10L               1        6   \n",
       "\n",
       "   claim_amount num_policies policy type_of_policy    cltv  \n",
       "0          5790  More than 1      A       Platinum   64308  \n",
       "1          5080  More than 1      A       Platinum  515400  \n",
       "2          2599  More than 1      A       Platinum   64212  \n",
       "3             0  More than 1      A       Platinum   97920  \n",
       "4          3508  More than 1      A           Gold   59736  "
      ]
     },
     "execution_count": 3,
     "metadata": {},
     "output_type": "execute_result"
    }
   ],
   "source": [
    "data.head()"
   ]
  },
  {
   "cell_type": "code",
   "execution_count": 4,
   "metadata": {},
   "outputs": [
    {
     "data": {
      "text/plain": [
       "count     89392.000000\n",
       "mean      97952.828978\n",
       "std       90613.814793\n",
       "min       24828.000000\n",
       "25%       52836.000000\n",
       "50%       66396.000000\n",
       "75%      103440.000000\n",
       "max      724068.000000\n",
       "Name: cltv, dtype: float64"
      ]
     },
     "execution_count": 4,
     "metadata": {},
     "output_type": "execute_result"
    }
   ],
   "source": [
    "data['cltv'].describe()"
   ]
  },
  {
   "cell_type": "code",
   "execution_count": 5,
   "metadata": {},
   "outputs": [
    {
     "data": {
      "text/plain": [
       "Index(['id', 'gender', 'area', 'qualification', 'income', 'marital_status',\n",
       "       'vintage', 'claim_amount', 'num_policies', 'policy', 'type_of_policy',\n",
       "       'cltv'],\n",
       "      dtype='object')"
      ]
     },
     "execution_count": 5,
     "metadata": {},
     "output_type": "execute_result"
    }
   ],
   "source": [
    "data.columns"
   ]
  },
  {
   "cell_type": "code",
   "execution_count": 6,
   "metadata": {},
   "outputs": [
    {
     "data": {
      "text/plain": [
       "(89392, 12)"
      ]
     },
     "execution_count": 6,
     "metadata": {},
     "output_type": "execute_result"
    }
   ],
   "source": [
    "data.shape"
   ]
  },
  {
   "cell_type": "code",
   "execution_count": 31,
   "metadata": {},
   "outputs": [
    {
     "data": {
      "text/plain": [
       "<bound method NDFrame.describe of           id    income  marital_status   vintage  claim_amount  num_policies  \\\n",
       "0          1 -0.096748               1  0.176531      0.440940             1   \n",
       "1          2 -0.096748               0  1.486327      0.223305             1   \n",
       "2          3 -0.096748               1  1.486327     -0.537192             1   \n",
       "3          4 -0.096748               0  1.049728     -1.333859             1   \n",
       "4          5  2.058917               1  0.613129     -0.258557             1   \n",
       "...      ...       ...             ...       ...           ...           ...   \n",
       "89387  89388  2.058917               0  0.613129     -1.333859             1   \n",
       "89388  89389 -0.096748               1 -2.006463     -0.139318             1   \n",
       "89389  89390 -0.096748               0 -0.260068     -0.303004             1   \n",
       "89390  89391 -1.174581               0  1.486327     -1.333859             1   \n",
       "89391  89392 -0.096748               0  0.613129     -1.333859             1   \n",
       "\n",
       "       type_of_policy    cltv  Prominence  gender_Female  gender_Male  \\\n",
       "0            0.849352   64308           0              0            1   \n",
       "1            0.849352  515400           1              0            1   \n",
       "2            0.849352   64212           0              0            1   \n",
       "3            0.849352   97920           1              1            0   \n",
       "4           -0.363395   59736           0              0            1   \n",
       "...               ...     ...         ...            ...          ...   \n",
       "89387        0.849352   95736           1              0            1   \n",
       "89388        0.849352   67596           1              0            1   \n",
       "89389        0.849352  114120           1              1            0   \n",
       "89390        0.849352   71772           1              1            0   \n",
       "89391       -0.363395  108144           1              1            0   \n",
       "\n",
       "       area_Rural  area_Urban  qualification_Bachelor  \\\n",
       "0               0           1                       1   \n",
       "1               1           0                       0   \n",
       "2               0           1                       1   \n",
       "3               1           0                       0   \n",
       "4               0           1                       0   \n",
       "...           ...         ...                     ...   \n",
       "89387           1           0                       0   \n",
       "89388           0           1                       1   \n",
       "89389           0           1                       1   \n",
       "89390           1           0                       0   \n",
       "89391           1           0                       0   \n",
       "\n",
       "       qualification_High School  qualification_Others  policy_A  policy_B  \\\n",
       "0                              0                     0         1         0   \n",
       "1                              1                     0         1         0   \n",
       "2                              0                     0         1         0   \n",
       "3                              1                     0         1         0   \n",
       "4                              1                     0         1         0   \n",
       "...                          ...                   ...       ...       ...   \n",
       "89387                          1                     0         0         1   \n",
       "89388                          0                     0         1         0   \n",
       "89389                          0                     0         0         1   \n",
       "89390                          1                     0         0         1   \n",
       "89391                          1                     0         0         1   \n",
       "\n",
       "       policy_C  \n",
       "0             0  \n",
       "1             0  \n",
       "2             0  \n",
       "3             0  \n",
       "4             0  \n",
       "...         ...  \n",
       "89387         0  \n",
       "89388         0  \n",
       "89389         0  \n",
       "89390         0  \n",
       "89391         0  \n",
       "\n",
       "[89392 rows x 19 columns]>"
      ]
     },
     "execution_count": 31,
     "metadata": {},
     "output_type": "execute_result"
    }
   ],
   "source": [
    "data.describe"
   ]
  },
  {
   "cell_type": "code",
   "execution_count": 8,
   "metadata": {},
   "outputs": [
    {
     "data": {
      "text/plain": [
       "id                0\n",
       "gender            0\n",
       "area              0\n",
       "qualification     0\n",
       "income            0\n",
       "marital_status    0\n",
       "vintage           0\n",
       "claim_amount      0\n",
       "num_policies      0\n",
       "policy            0\n",
       "type_of_policy    0\n",
       "cltv              0\n",
       "dtype: int64"
      ]
     },
     "execution_count": 8,
     "metadata": {},
     "output_type": "execute_result"
    }
   ],
   "source": [
    "data.isnull().sum()"
   ]
  },
  {
   "cell_type": "code",
   "execution_count": 9,
   "metadata": {},
   "outputs": [
    {
     "name": "stdout",
     "output_type": "stream",
     "text": [
      "income:  ['5L-10L' 'More than 10L' '2L-5L' '<=2L']\n",
      "Gender:  ['Male' 'Female']\n",
      "Area:   ['Urban' 'Rural']\n",
      "Marital status:  [1 0]\n",
      "Number of Policies:  ['More than 1' '1']\n",
      "policy:  ['A' 'C' 'B']\n",
      "Type of policy:  ['Platinum' 'Gold' 'Silver']\n",
      "Number of policies:  ['More than 1' '1']\n"
     ]
    }
   ],
   "source": [
    "print('income: ',data['income'].unique())\n",
    "print('Gender: ',data['gender'].unique())\n",
    "print('Area:  ',data['area'].unique())\n",
    "print('Marital status: ',data['marital_status'].unique())\n",
    "print('Number of Policies: ',data['num_policies'].unique())\n",
    "print('policy: ',data['policy'].unique())\n",
    "print('Type of policy: ',data['type_of_policy'].unique())\n",
    "print(\"Number of policies: \",data['num_policies'].unique())\n"
   ]
  },
  {
   "cell_type": "code",
   "execution_count": 10,
   "metadata": {},
   "outputs": [
    {
     "name": "stdout",
     "output_type": "stream",
     "text": [
      "66396.0\n"
     ]
    }
   ],
   "source": [
    "cltv_median = data['cltv'].median()\n",
    "print(cltv_median)"
   ]
  },
  {
   "cell_type": "code",
   "execution_count": 12,
   "metadata": {},
   "outputs": [],
   "source": [
    "data['Prominence']=(data['cltv']>=cltv_median).astype(int)"
   ]
  },
  {
   "cell_type": "code",
   "execution_count": 13,
   "metadata": {},
   "outputs": [
    {
     "name": "stdout",
     "output_type": "stream",
     "text": [
      "Median CLTV: 66396.0\n",
      "\n",
      "First 5 rows with new prominence column:\n",
      "     cltv  Prominence\n",
      "0   64308           0\n",
      "1  515400           1\n",
      "2   64212           0\n",
      "3   97920           1\n",
      "4   59736           0\n",
      "\n",
      "Prominence value counts:\n",
      "Prominence\n",
      "1    44715\n",
      "0    44677\n",
      "Name: count, dtype: int64\n"
     ]
    }
   ],
   "source": [
    "print(f\"Median CLTV: {cltv_median}\")\n",
    "print(\"\\nFirst 5 rows with new prominence column:\")\n",
    "print(data[['cltv', 'Prominence']].head())\n",
    "print(\"\\nProminence value counts:\")\n",
    "print(data['Prominence'].value_counts())"
   ]
  },
  {
   "cell_type": "code",
   "execution_count": 14,
   "metadata": {},
   "outputs": [
    {
     "data": {
      "text/html": [
       "<div>\n",
       "<style scoped>\n",
       "    .dataframe tbody tr th:only-of-type {\n",
       "        vertical-align: middle;\n",
       "    }\n",
       "\n",
       "    .dataframe tbody tr th {\n",
       "        vertical-align: top;\n",
       "    }\n",
       "\n",
       "    .dataframe thead th {\n",
       "        text-align: right;\n",
       "    }\n",
       "</style>\n",
       "<table border=\"1\" class=\"dataframe\">\n",
       "  <thead>\n",
       "    <tr style=\"text-align: right;\">\n",
       "      <th></th>\n",
       "      <th>id</th>\n",
       "      <th>gender</th>\n",
       "      <th>area</th>\n",
       "      <th>qualification</th>\n",
       "      <th>income</th>\n",
       "      <th>marital_status</th>\n",
       "      <th>vintage</th>\n",
       "      <th>claim_amount</th>\n",
       "      <th>num_policies</th>\n",
       "      <th>policy</th>\n",
       "      <th>type_of_policy</th>\n",
       "      <th>cltv</th>\n",
       "      <th>Prominence</th>\n",
       "    </tr>\n",
       "  </thead>\n",
       "  <tbody>\n",
       "    <tr>\n",
       "      <th>0</th>\n",
       "      <td>1</td>\n",
       "      <td>Male</td>\n",
       "      <td>Urban</td>\n",
       "      <td>Bachelor</td>\n",
       "      <td>5L-10L</td>\n",
       "      <td>1</td>\n",
       "      <td>5</td>\n",
       "      <td>5790</td>\n",
       "      <td>More than 1</td>\n",
       "      <td>A</td>\n",
       "      <td>Platinum</td>\n",
       "      <td>64308</td>\n",
       "      <td>0</td>\n",
       "    </tr>\n",
       "    <tr>\n",
       "      <th>1</th>\n",
       "      <td>2</td>\n",
       "      <td>Male</td>\n",
       "      <td>Rural</td>\n",
       "      <td>High School</td>\n",
       "      <td>5L-10L</td>\n",
       "      <td>0</td>\n",
       "      <td>8</td>\n",
       "      <td>5080</td>\n",
       "      <td>More than 1</td>\n",
       "      <td>A</td>\n",
       "      <td>Platinum</td>\n",
       "      <td>515400</td>\n",
       "      <td>1</td>\n",
       "    </tr>\n",
       "    <tr>\n",
       "      <th>2</th>\n",
       "      <td>3</td>\n",
       "      <td>Male</td>\n",
       "      <td>Urban</td>\n",
       "      <td>Bachelor</td>\n",
       "      <td>5L-10L</td>\n",
       "      <td>1</td>\n",
       "      <td>8</td>\n",
       "      <td>2599</td>\n",
       "      <td>More than 1</td>\n",
       "      <td>A</td>\n",
       "      <td>Platinum</td>\n",
       "      <td>64212</td>\n",
       "      <td>0</td>\n",
       "    </tr>\n",
       "    <tr>\n",
       "      <th>3</th>\n",
       "      <td>4</td>\n",
       "      <td>Female</td>\n",
       "      <td>Rural</td>\n",
       "      <td>High School</td>\n",
       "      <td>5L-10L</td>\n",
       "      <td>0</td>\n",
       "      <td>7</td>\n",
       "      <td>0</td>\n",
       "      <td>More than 1</td>\n",
       "      <td>A</td>\n",
       "      <td>Platinum</td>\n",
       "      <td>97920</td>\n",
       "      <td>1</td>\n",
       "    </tr>\n",
       "    <tr>\n",
       "      <th>4</th>\n",
       "      <td>5</td>\n",
       "      <td>Male</td>\n",
       "      <td>Urban</td>\n",
       "      <td>High School</td>\n",
       "      <td>More than 10L</td>\n",
       "      <td>1</td>\n",
       "      <td>6</td>\n",
       "      <td>3508</td>\n",
       "      <td>More than 1</td>\n",
       "      <td>A</td>\n",
       "      <td>Gold</td>\n",
       "      <td>59736</td>\n",
       "      <td>0</td>\n",
       "    </tr>\n",
       "  </tbody>\n",
       "</table>\n",
       "</div>"
      ],
      "text/plain": [
       "   id  gender   area qualification         income  marital_status  vintage  \\\n",
       "0   1    Male  Urban      Bachelor         5L-10L               1        5   \n",
       "1   2    Male  Rural   High School         5L-10L               0        8   \n",
       "2   3    Male  Urban      Bachelor         5L-10L               1        8   \n",
       "3   4  Female  Rural   High School         5L-10L               0        7   \n",
       "4   5    Male  Urban   High School  More than 10L               1        6   \n",
       "\n",
       "   claim_amount num_policies policy type_of_policy    cltv  Prominence  \n",
       "0          5790  More than 1      A       Platinum   64308           0  \n",
       "1          5080  More than 1      A       Platinum  515400           1  \n",
       "2          2599  More than 1      A       Platinum   64212           0  \n",
       "3             0  More than 1      A       Platinum   97920           1  \n",
       "4          3508  More than 1      A           Gold   59736           0  "
      ]
     },
     "execution_count": 14,
     "metadata": {},
     "output_type": "execute_result"
    }
   ],
   "source": [
    "data.head()"
   ]
  },
  {
   "cell_type": "code",
   "execution_count": 15,
   "metadata": {},
   "outputs": [
    {
     "data": {
      "text/plain": [
       "Prominence\n",
       "1    44715\n",
       "0    44677\n",
       "Name: count, dtype: int64"
      ]
     },
     "execution_count": 15,
     "metadata": {},
     "output_type": "execute_result"
    }
   ],
   "source": [
    "data['Prominence'].value_counts()"
   ]
  },
  {
   "cell_type": "code",
   "execution_count": 16,
   "metadata": {},
   "outputs": [],
   "source": [
    "from sklearn.preprocessing import LabelEncoder\n",
    "le=LabelEncoder()"
   ]
  },
  {
   "cell_type": "code",
   "execution_count": 35,
   "metadata": {},
   "outputs": [],
   "source": [
    "#label encoding for income, policy and type of policy\n",
    "\n",
    "\n",
    "     # Ordered categories 0:More than 10L, 1:5L-10L, 2:2L-5L\n",
    "      # Platinum > Gold > Silvev"
   ]
  },
  {
   "cell_type": "code",
   "execution_count": 17,
   "metadata": {},
   "outputs": [],
   "source": [
    "data['income'] = le.fit_transform(data['income'])\n",
    "data['type_of_policy'] = data['type_of_policy'].map({'Silver': 0, 'Gold': 1, 'Platinum': 2})\n",
    "data['num_policies'] = le.fit_transform(data['num_policies'])"
   ]
  },
  {
   "cell_type": "code",
   "execution_count": 19,
   "metadata": {},
   "outputs": [],
   "source": [
    "# Convert columns to strings (if they contain Boolean values)\n",
    "data['gender'] = data['gender'].astype(str)\n",
    "data['area'] = data['area'].astype(str)\n",
    "data['qualification'] = data['qualification'].astype(str)\n",
    "data['policy'] = data['policy'].astype(str)\n",
    "\n",
    "# Apply get_dummies\n",
    "data = pd.get_dummies(data, columns=['gender', 'area', 'qualification', 'policy'])\n"
   ]
  },
  {
   "cell_type": "code",
   "execution_count": 22,
   "metadata": {},
   "outputs": [
    {
     "data": {
      "text/html": [
       "<div>\n",
       "<style scoped>\n",
       "    .dataframe tbody tr th:only-of-type {\n",
       "        vertical-align: middle;\n",
       "    }\n",
       "\n",
       "    .dataframe tbody tr th {\n",
       "        vertical-align: top;\n",
       "    }\n",
       "\n",
       "    .dataframe thead th {\n",
       "        text-align: right;\n",
       "    }\n",
       "</style>\n",
       "<table border=\"1\" class=\"dataframe\">\n",
       "  <thead>\n",
       "    <tr style=\"text-align: right;\">\n",
       "      <th></th>\n",
       "      <th>id</th>\n",
       "      <th>income</th>\n",
       "      <th>marital_status</th>\n",
       "      <th>vintage</th>\n",
       "      <th>claim_amount</th>\n",
       "      <th>num_policies</th>\n",
       "      <th>type_of_policy</th>\n",
       "      <th>cltv</th>\n",
       "      <th>Prominence</th>\n",
       "      <th>gender_Female</th>\n",
       "      <th>gender_Male</th>\n",
       "      <th>area_Rural</th>\n",
       "      <th>area_Urban</th>\n",
       "      <th>qualification_Bachelor</th>\n",
       "      <th>qualification_High School</th>\n",
       "      <th>qualification_Others</th>\n",
       "      <th>policy_A</th>\n",
       "      <th>policy_B</th>\n",
       "      <th>policy_C</th>\n",
       "    </tr>\n",
       "  </thead>\n",
       "  <tbody>\n",
       "    <tr>\n",
       "      <th>0</th>\n",
       "      <td>1</td>\n",
       "      <td>1</td>\n",
       "      <td>1</td>\n",
       "      <td>5</td>\n",
       "      <td>5790</td>\n",
       "      <td>1</td>\n",
       "      <td>2</td>\n",
       "      <td>64308</td>\n",
       "      <td>0</td>\n",
       "      <td>0</td>\n",
       "      <td>1</td>\n",
       "      <td>0</td>\n",
       "      <td>1</td>\n",
       "      <td>1</td>\n",
       "      <td>0</td>\n",
       "      <td>0</td>\n",
       "      <td>1</td>\n",
       "      <td>0</td>\n",
       "      <td>0</td>\n",
       "    </tr>\n",
       "    <tr>\n",
       "      <th>1</th>\n",
       "      <td>2</td>\n",
       "      <td>1</td>\n",
       "      <td>0</td>\n",
       "      <td>8</td>\n",
       "      <td>5080</td>\n",
       "      <td>1</td>\n",
       "      <td>2</td>\n",
       "      <td>515400</td>\n",
       "      <td>1</td>\n",
       "      <td>0</td>\n",
       "      <td>1</td>\n",
       "      <td>1</td>\n",
       "      <td>0</td>\n",
       "      <td>0</td>\n",
       "      <td>1</td>\n",
       "      <td>0</td>\n",
       "      <td>1</td>\n",
       "      <td>0</td>\n",
       "      <td>0</td>\n",
       "    </tr>\n",
       "    <tr>\n",
       "      <th>2</th>\n",
       "      <td>3</td>\n",
       "      <td>1</td>\n",
       "      <td>1</td>\n",
       "      <td>8</td>\n",
       "      <td>2599</td>\n",
       "      <td>1</td>\n",
       "      <td>2</td>\n",
       "      <td>64212</td>\n",
       "      <td>0</td>\n",
       "      <td>0</td>\n",
       "      <td>1</td>\n",
       "      <td>0</td>\n",
       "      <td>1</td>\n",
       "      <td>1</td>\n",
       "      <td>0</td>\n",
       "      <td>0</td>\n",
       "      <td>1</td>\n",
       "      <td>0</td>\n",
       "      <td>0</td>\n",
       "    </tr>\n",
       "    <tr>\n",
       "      <th>3</th>\n",
       "      <td>4</td>\n",
       "      <td>1</td>\n",
       "      <td>0</td>\n",
       "      <td>7</td>\n",
       "      <td>0</td>\n",
       "      <td>1</td>\n",
       "      <td>2</td>\n",
       "      <td>97920</td>\n",
       "      <td>1</td>\n",
       "      <td>1</td>\n",
       "      <td>0</td>\n",
       "      <td>1</td>\n",
       "      <td>0</td>\n",
       "      <td>0</td>\n",
       "      <td>1</td>\n",
       "      <td>0</td>\n",
       "      <td>1</td>\n",
       "      <td>0</td>\n",
       "      <td>0</td>\n",
       "    </tr>\n",
       "    <tr>\n",
       "      <th>4</th>\n",
       "      <td>5</td>\n",
       "      <td>3</td>\n",
       "      <td>1</td>\n",
       "      <td>6</td>\n",
       "      <td>3508</td>\n",
       "      <td>1</td>\n",
       "      <td>1</td>\n",
       "      <td>59736</td>\n",
       "      <td>0</td>\n",
       "      <td>0</td>\n",
       "      <td>1</td>\n",
       "      <td>0</td>\n",
       "      <td>1</td>\n",
       "      <td>0</td>\n",
       "      <td>1</td>\n",
       "      <td>0</td>\n",
       "      <td>1</td>\n",
       "      <td>0</td>\n",
       "      <td>0</td>\n",
       "    </tr>\n",
       "  </tbody>\n",
       "</table>\n",
       "</div>"
      ],
      "text/plain": [
       "   id  income  marital_status  vintage  claim_amount  num_policies  \\\n",
       "0   1       1               1        5          5790             1   \n",
       "1   2       1               0        8          5080             1   \n",
       "2   3       1               1        8          2599             1   \n",
       "3   4       1               0        7             0             1   \n",
       "4   5       3               1        6          3508             1   \n",
       "\n",
       "   type_of_policy    cltv  Prominence  gender_Female  gender_Male  area_Rural  \\\n",
       "0               2   64308           0              0            1           0   \n",
       "1               2  515400           1              0            1           1   \n",
       "2               2   64212           0              0            1           0   \n",
       "3               2   97920           1              1            0           1   \n",
       "4               1   59736           0              0            1           0   \n",
       "\n",
       "   area_Urban  qualification_Bachelor  qualification_High School  \\\n",
       "0           1                       1                          0   \n",
       "1           0                       0                          1   \n",
       "2           1                       1                          0   \n",
       "3           0                       0                          1   \n",
       "4           1                       0                          1   \n",
       "\n",
       "   qualification_Others  policy_A  policy_B  policy_C  \n",
       "0                     0         1         0         0  \n",
       "1                     0         1         0         0  \n",
       "2                     0         1         0         0  \n",
       "3                     0         1         0         0  \n",
       "4                     0         1         0         0  "
      ]
     },
     "execution_count": 22,
     "metadata": {},
     "output_type": "execute_result"
    }
   ],
   "source": [
    "data.head()"
   ]
  },
  {
   "cell_type": "code",
   "execution_count": 21,
   "metadata": {},
   "outputs": [
    {
     "name": "stderr",
     "output_type": "stream",
     "text": [
      "C:\\Users\\amgot\\AppData\\Local\\Temp\\ipykernel_11316\\1779113461.py:2: FutureWarning: DataFrame.applymap has been deprecated. Use DataFrame.map instead.\n",
      "  data = data.applymap(lambda x: 1 if x is True else (0 if x is False else x))\n"
     ]
    }
   ],
   "source": [
    "# Convert all Boolean columns to integers\n",
    "data = data.applymap(lambda x: 1 if x is True else (0 if x is False else x))\n"
   ]
  },
  {
   "cell_type": "code",
   "execution_count": 24,
   "metadata": {},
   "outputs": [
    {
     "name": "stdout",
     "output_type": "stream",
     "text": [
      "   id  income  marital_status  vintage  claim_amount  num_policies  \\\n",
      "0   1       1               1        5          5790             1   \n",
      "1   2       1               0        8          5080             1   \n",
      "2   3       1               1        8          2599             1   \n",
      "3   4       1               0        7             0             1   \n",
      "4   5       3               1        6          3508             1   \n",
      "\n",
      "   type_of_policy  Prominence  gender_Female  gender_Male  area_Rural  \\\n",
      "0               2           0              0            1           0   \n",
      "1               2           1              0            1           1   \n",
      "2               2           0              0            1           0   \n",
      "3               2           1              1            0           1   \n",
      "4               1           0              0            1           0   \n",
      "\n",
      "   area_Urban  qualification_Bachelor  qualification_High School  \\\n",
      "0           1                       1                          0   \n",
      "1           0                       0                          1   \n",
      "2           1                       1                          0   \n",
      "3           0                       0                          1   \n",
      "4           1                       0                          1   \n",
      "\n",
      "   qualification_Others  policy_A  policy_B  policy_C  \n",
      "0                     0         1         0         0  \n",
      "1                     0         1         0         0  \n",
      "2                     0         1         0         0  \n",
      "3                     0         1         0         0  \n",
      "4                     0         1         0         0  \n"
     ]
    }
   ],
   "source": [
    "df=data.drop(['cltv'],axis=1)\n",
    "print(df.head())"
   ]
  },
  {
   "cell_type": "code",
   "execution_count": 25,
   "metadata": {},
   "outputs": [],
   "source": [
    "from sklearn.preprocessing import StandardScaler\n",
    "cols_to_scale=['claim_amount','income','vintage','type_of_policy']\n",
    "scaler = StandardScaler()"
   ]
  },
  {
   "cell_type": "code",
   "execution_count": 26,
   "metadata": {},
   "outputs": [],
   "source": [
    "data[cols_to_scale]=scaler.fit_transform(data[cols_to_scale])"
   ]
  },
  {
   "cell_type": "code",
   "execution_count": 27,
   "metadata": {},
   "outputs": [
    {
     "data": {
      "text/html": [
       "<div>\n",
       "<style scoped>\n",
       "    .dataframe tbody tr th:only-of-type {\n",
       "        vertical-align: middle;\n",
       "    }\n",
       "\n",
       "    .dataframe tbody tr th {\n",
       "        vertical-align: top;\n",
       "    }\n",
       "\n",
       "    .dataframe thead th {\n",
       "        text-align: right;\n",
       "    }\n",
       "</style>\n",
       "<table border=\"1\" class=\"dataframe\">\n",
       "  <thead>\n",
       "    <tr style=\"text-align: right;\">\n",
       "      <th></th>\n",
       "      <th>id</th>\n",
       "      <th>income</th>\n",
       "      <th>marital_status</th>\n",
       "      <th>vintage</th>\n",
       "      <th>claim_amount</th>\n",
       "      <th>num_policies</th>\n",
       "      <th>type_of_policy</th>\n",
       "      <th>cltv</th>\n",
       "      <th>Prominence</th>\n",
       "      <th>gender_Female</th>\n",
       "      <th>gender_Male</th>\n",
       "      <th>area_Rural</th>\n",
       "      <th>area_Urban</th>\n",
       "      <th>qualification_Bachelor</th>\n",
       "      <th>qualification_High School</th>\n",
       "      <th>qualification_Others</th>\n",
       "      <th>policy_A</th>\n",
       "      <th>policy_B</th>\n",
       "      <th>policy_C</th>\n",
       "    </tr>\n",
       "  </thead>\n",
       "  <tbody>\n",
       "    <tr>\n",
       "      <th>0</th>\n",
       "      <td>1</td>\n",
       "      <td>-0.096748</td>\n",
       "      <td>1</td>\n",
       "      <td>0.176531</td>\n",
       "      <td>0.440940</td>\n",
       "      <td>1</td>\n",
       "      <td>0.849352</td>\n",
       "      <td>64308</td>\n",
       "      <td>0</td>\n",
       "      <td>0</td>\n",
       "      <td>1</td>\n",
       "      <td>0</td>\n",
       "      <td>1</td>\n",
       "      <td>1</td>\n",
       "      <td>0</td>\n",
       "      <td>0</td>\n",
       "      <td>1</td>\n",
       "      <td>0</td>\n",
       "      <td>0</td>\n",
       "    </tr>\n",
       "    <tr>\n",
       "      <th>1</th>\n",
       "      <td>2</td>\n",
       "      <td>-0.096748</td>\n",
       "      <td>0</td>\n",
       "      <td>1.486327</td>\n",
       "      <td>0.223305</td>\n",
       "      <td>1</td>\n",
       "      <td>0.849352</td>\n",
       "      <td>515400</td>\n",
       "      <td>1</td>\n",
       "      <td>0</td>\n",
       "      <td>1</td>\n",
       "      <td>1</td>\n",
       "      <td>0</td>\n",
       "      <td>0</td>\n",
       "      <td>1</td>\n",
       "      <td>0</td>\n",
       "      <td>1</td>\n",
       "      <td>0</td>\n",
       "      <td>0</td>\n",
       "    </tr>\n",
       "    <tr>\n",
       "      <th>2</th>\n",
       "      <td>3</td>\n",
       "      <td>-0.096748</td>\n",
       "      <td>1</td>\n",
       "      <td>1.486327</td>\n",
       "      <td>-0.537192</td>\n",
       "      <td>1</td>\n",
       "      <td>0.849352</td>\n",
       "      <td>64212</td>\n",
       "      <td>0</td>\n",
       "      <td>0</td>\n",
       "      <td>1</td>\n",
       "      <td>0</td>\n",
       "      <td>1</td>\n",
       "      <td>1</td>\n",
       "      <td>0</td>\n",
       "      <td>0</td>\n",
       "      <td>1</td>\n",
       "      <td>0</td>\n",
       "      <td>0</td>\n",
       "    </tr>\n",
       "    <tr>\n",
       "      <th>3</th>\n",
       "      <td>4</td>\n",
       "      <td>-0.096748</td>\n",
       "      <td>0</td>\n",
       "      <td>1.049728</td>\n",
       "      <td>-1.333859</td>\n",
       "      <td>1</td>\n",
       "      <td>0.849352</td>\n",
       "      <td>97920</td>\n",
       "      <td>1</td>\n",
       "      <td>1</td>\n",
       "      <td>0</td>\n",
       "      <td>1</td>\n",
       "      <td>0</td>\n",
       "      <td>0</td>\n",
       "      <td>1</td>\n",
       "      <td>0</td>\n",
       "      <td>1</td>\n",
       "      <td>0</td>\n",
       "      <td>0</td>\n",
       "    </tr>\n",
       "    <tr>\n",
       "      <th>4</th>\n",
       "      <td>5</td>\n",
       "      <td>2.058917</td>\n",
       "      <td>1</td>\n",
       "      <td>0.613129</td>\n",
       "      <td>-0.258557</td>\n",
       "      <td>1</td>\n",
       "      <td>-0.363395</td>\n",
       "      <td>59736</td>\n",
       "      <td>0</td>\n",
       "      <td>0</td>\n",
       "      <td>1</td>\n",
       "      <td>0</td>\n",
       "      <td>1</td>\n",
       "      <td>0</td>\n",
       "      <td>1</td>\n",
       "      <td>0</td>\n",
       "      <td>1</td>\n",
       "      <td>0</td>\n",
       "      <td>0</td>\n",
       "    </tr>\n",
       "  </tbody>\n",
       "</table>\n",
       "</div>"
      ],
      "text/plain": [
       "   id    income  marital_status   vintage  claim_amount  num_policies  \\\n",
       "0   1 -0.096748               1  0.176531      0.440940             1   \n",
       "1   2 -0.096748               0  1.486327      0.223305             1   \n",
       "2   3 -0.096748               1  1.486327     -0.537192             1   \n",
       "3   4 -0.096748               0  1.049728     -1.333859             1   \n",
       "4   5  2.058917               1  0.613129     -0.258557             1   \n",
       "\n",
       "   type_of_policy    cltv  Prominence  gender_Female  gender_Male  area_Rural  \\\n",
       "0        0.849352   64308           0              0            1           0   \n",
       "1        0.849352  515400           1              0            1           1   \n",
       "2        0.849352   64212           0              0            1           0   \n",
       "3        0.849352   97920           1              1            0           1   \n",
       "4       -0.363395   59736           0              0            1           0   \n",
       "\n",
       "   area_Urban  qualification_Bachelor  qualification_High School  \\\n",
       "0           1                       1                          0   \n",
       "1           0                       0                          1   \n",
       "2           1                       1                          0   \n",
       "3           0                       0                          1   \n",
       "4           1                       0                          1   \n",
       "\n",
       "   qualification_Others  policy_A  policy_B  policy_C  \n",
       "0                     0         1         0         0  \n",
       "1                     0         1         0         0  \n",
       "2                     0         1         0         0  \n",
       "3                     0         1         0         0  \n",
       "4                     0         1         0         0  "
      ]
     },
     "execution_count": 27,
     "metadata": {},
     "output_type": "execute_result"
    }
   ],
   "source": [
    "data.head()"
   ]
  },
  {
   "cell_type": "code",
   "execution_count": 29,
   "metadata": {},
   "outputs": [],
   "source": [
    "test_path='test_koRSKBP.csv'\n",
    "test_data=pd.read_csv(test_path)"
   ]
  },
  {
   "cell_type": "code",
   "execution_count": 32,
   "metadata": {},
   "outputs": [
    {
     "data": {
      "text/html": [
       "<div>\n",
       "<style scoped>\n",
       "    .dataframe tbody tr th:only-of-type {\n",
       "        vertical-align: middle;\n",
       "    }\n",
       "\n",
       "    .dataframe tbody tr th {\n",
       "        vertical-align: top;\n",
       "    }\n",
       "\n",
       "    .dataframe thead th {\n",
       "        text-align: right;\n",
       "    }\n",
       "</style>\n",
       "<table border=\"1\" class=\"dataframe\">\n",
       "  <thead>\n",
       "    <tr style=\"text-align: right;\">\n",
       "      <th></th>\n",
       "      <th>id</th>\n",
       "      <th>gender</th>\n",
       "      <th>area</th>\n",
       "      <th>qualification</th>\n",
       "      <th>income</th>\n",
       "      <th>marital_status</th>\n",
       "      <th>vintage</th>\n",
       "      <th>claim_amount</th>\n",
       "      <th>num_policies</th>\n",
       "      <th>policy</th>\n",
       "      <th>type_of_policy</th>\n",
       "    </tr>\n",
       "  </thead>\n",
       "  <tbody>\n",
       "    <tr>\n",
       "      <th>0</th>\n",
       "      <td>89393</td>\n",
       "      <td>Female</td>\n",
       "      <td>Rural</td>\n",
       "      <td>High School</td>\n",
       "      <td>5L-10L</td>\n",
       "      <td>0</td>\n",
       "      <td>6</td>\n",
       "      <td>2134</td>\n",
       "      <td>More than 1</td>\n",
       "      <td>B</td>\n",
       "      <td>Silver</td>\n",
       "    </tr>\n",
       "    <tr>\n",
       "      <th>1</th>\n",
       "      <td>89394</td>\n",
       "      <td>Female</td>\n",
       "      <td>Urban</td>\n",
       "      <td>High School</td>\n",
       "      <td>2L-5L</td>\n",
       "      <td>0</td>\n",
       "      <td>4</td>\n",
       "      <td>4102</td>\n",
       "      <td>More than 1</td>\n",
       "      <td>A</td>\n",
       "      <td>Platinum</td>\n",
       "    </tr>\n",
       "    <tr>\n",
       "      <th>2</th>\n",
       "      <td>89395</td>\n",
       "      <td>Male</td>\n",
       "      <td>Rural</td>\n",
       "      <td>High School</td>\n",
       "      <td>5L-10L</td>\n",
       "      <td>1</td>\n",
       "      <td>7</td>\n",
       "      <td>2925</td>\n",
       "      <td>More than 1</td>\n",
       "      <td>B</td>\n",
       "      <td>Gold</td>\n",
       "    </tr>\n",
       "    <tr>\n",
       "      <th>3</th>\n",
       "      <td>89396</td>\n",
       "      <td>Female</td>\n",
       "      <td>Rural</td>\n",
       "      <td>Bachelor</td>\n",
       "      <td>More than 10L</td>\n",
       "      <td>1</td>\n",
       "      <td>2</td>\n",
       "      <td>0</td>\n",
       "      <td>More than 1</td>\n",
       "      <td>B</td>\n",
       "      <td>Silver</td>\n",
       "    </tr>\n",
       "    <tr>\n",
       "      <th>4</th>\n",
       "      <td>89397</td>\n",
       "      <td>Female</td>\n",
       "      <td>Urban</td>\n",
       "      <td>High School</td>\n",
       "      <td>2L-5L</td>\n",
       "      <td>0</td>\n",
       "      <td>5</td>\n",
       "      <td>14059</td>\n",
       "      <td>More than 1</td>\n",
       "      <td>B</td>\n",
       "      <td>Silver</td>\n",
       "    </tr>\n",
       "  </tbody>\n",
       "</table>\n",
       "</div>"
      ],
      "text/plain": [
       "      id  gender   area qualification         income  marital_status  vintage  \\\n",
       "0  89393  Female  Rural   High School         5L-10L               0        6   \n",
       "1  89394  Female  Urban   High School          2L-5L               0        4   \n",
       "2  89395    Male  Rural   High School         5L-10L               1        7   \n",
       "3  89396  Female  Rural      Bachelor  More than 10L               1        2   \n",
       "4  89397  Female  Urban   High School          2L-5L               0        5   \n",
       "\n",
       "   claim_amount num_policies policy type_of_policy  \n",
       "0          2134  More than 1      B         Silver  \n",
       "1          4102  More than 1      A       Platinum  \n",
       "2          2925  More than 1      B           Gold  \n",
       "3             0  More than 1      B         Silver  \n",
       "4         14059  More than 1      B         Silver  "
      ]
     },
     "execution_count": 32,
     "metadata": {},
     "output_type": "execute_result"
    }
   ],
   "source": [
    "test_data.head()"
   ]
  },
  {
   "cell_type": "code",
   "execution_count": 33,
   "metadata": {},
   "outputs": [
    {
     "data": {
      "text/html": [
       "<div>\n",
       "<style scoped>\n",
       "    .dataframe tbody tr th:only-of-type {\n",
       "        vertical-align: middle;\n",
       "    }\n",
       "\n",
       "    .dataframe tbody tr th {\n",
       "        vertical-align: top;\n",
       "    }\n",
       "\n",
       "    .dataframe thead th {\n",
       "        text-align: right;\n",
       "    }\n",
       "</style>\n",
       "<table border=\"1\" class=\"dataframe\">\n",
       "  <thead>\n",
       "    <tr style=\"text-align: right;\">\n",
       "      <th></th>\n",
       "      <th>id</th>\n",
       "      <th>marital_status</th>\n",
       "      <th>vintage</th>\n",
       "      <th>claim_amount</th>\n",
       "    </tr>\n",
       "  </thead>\n",
       "  <tbody>\n",
       "    <tr>\n",
       "      <th>count</th>\n",
       "      <td>59595.000000</td>\n",
       "      <td>59595.000000</td>\n",
       "      <td>59595.000000</td>\n",
       "      <td>59595.000000</td>\n",
       "    </tr>\n",
       "    <tr>\n",
       "      <th>mean</th>\n",
       "      <td>119190.000000</td>\n",
       "      <td>0.576928</td>\n",
       "      <td>4.620304</td>\n",
       "      <td>4368.504321</td>\n",
       "    </tr>\n",
       "    <tr>\n",
       "      <th>std</th>\n",
       "      <td>17203.738983</td>\n",
       "      <td>0.494051</td>\n",
       "      <td>2.282511</td>\n",
       "      <td>3288.132408</td>\n",
       "    </tr>\n",
       "    <tr>\n",
       "      <th>min</th>\n",
       "      <td>89393.000000</td>\n",
       "      <td>0.000000</td>\n",
       "      <td>0.000000</td>\n",
       "      <td>0.000000</td>\n",
       "    </tr>\n",
       "    <tr>\n",
       "      <th>25%</th>\n",
       "      <td>104291.500000</td>\n",
       "      <td>0.000000</td>\n",
       "      <td>3.000000</td>\n",
       "      <td>2398.000000</td>\n",
       "    </tr>\n",
       "    <tr>\n",
       "      <th>50%</th>\n",
       "      <td>119190.000000</td>\n",
       "      <td>1.000000</td>\n",
       "      <td>5.000000</td>\n",
       "      <td>4106.000000</td>\n",
       "    </tr>\n",
       "    <tr>\n",
       "      <th>75%</th>\n",
       "      <td>134088.500000</td>\n",
       "      <td>1.000000</td>\n",
       "      <td>6.000000</td>\n",
       "      <td>6104.000000</td>\n",
       "    </tr>\n",
       "    <tr>\n",
       "      <th>max</th>\n",
       "      <td>148987.000000</td>\n",
       "      <td>1.000000</td>\n",
       "      <td>8.000000</td>\n",
       "      <td>32534.000000</td>\n",
       "    </tr>\n",
       "  </tbody>\n",
       "</table>\n",
       "</div>"
      ],
      "text/plain": [
       "                  id  marital_status       vintage  claim_amount\n",
       "count   59595.000000    59595.000000  59595.000000  59595.000000\n",
       "mean   119190.000000        0.576928      4.620304   4368.504321\n",
       "std     17203.738983        0.494051      2.282511   3288.132408\n",
       "min     89393.000000        0.000000      0.000000      0.000000\n",
       "25%    104291.500000        0.000000      3.000000   2398.000000\n",
       "50%    119190.000000        1.000000      5.000000   4106.000000\n",
       "75%    134088.500000        1.000000      6.000000   6104.000000\n",
       "max    148987.000000        1.000000      8.000000  32534.000000"
      ]
     },
     "execution_count": 33,
     "metadata": {},
     "output_type": "execute_result"
    }
   ],
   "source": [
    "test_data.describe()"
   ]
  },
  {
   "cell_type": "code",
   "execution_count": 34,
   "metadata": {},
   "outputs": [
    {
     "data": {
      "text/plain": [
       "Index(['id', 'gender', 'area', 'qualification', 'income', 'marital_status',\n",
       "       'vintage', 'claim_amount', 'num_policies', 'policy', 'type_of_policy'],\n",
       "      dtype='object')"
      ]
     },
     "execution_count": 34,
     "metadata": {},
     "output_type": "execute_result"
    }
   ],
   "source": [
    "test_data.columns"
   ]
  },
  {
   "cell_type": "markdown",
   "metadata": {},
   "source": [
    "# splitting the data for train and test"
   ]
  },
  {
   "cell_type": "code",
   "execution_count": 50,
   "metadata": {},
   "outputs": [],
   "source": [
    "from sklearn.model_selection import train_test_split\n",
    "from tensorflow.keras.models import Sequential\n",
    "from tensorflow.keras.layers import Dense, Dropout"
   ]
  },
  {
   "cell_type": "code",
   "execution_count": 37,
   "metadata": {},
   "outputs": [],
   "source": [
    "train_data=data"
   ]
  },
  {
   "cell_type": "code",
   "execution_count": 39,
   "metadata": {},
   "outputs": [
    {
     "data": {
      "text/plain": [
       "(89392, 19)"
      ]
     },
     "execution_count": 39,
     "metadata": {},
     "output_type": "execute_result"
    }
   ],
   "source": [
    "train_data.shape"
   ]
  },
  {
   "cell_type": "code",
   "execution_count": 74,
   "metadata": {},
   "outputs": [],
   "source": [
    "X=train_data.drop(['Prominence','id'],axis=1)\n",
    "y=train_data['Prominence']"
   ]
  },
  {
   "cell_type": "code",
   "execution_count": 75,
   "metadata": {},
   "outputs": [
    {
     "data": {
      "text/html": [
       "<div>\n",
       "<style scoped>\n",
       "    .dataframe tbody tr th:only-of-type {\n",
       "        vertical-align: middle;\n",
       "    }\n",
       "\n",
       "    .dataframe tbody tr th {\n",
       "        vertical-align: top;\n",
       "    }\n",
       "\n",
       "    .dataframe thead th {\n",
       "        text-align: right;\n",
       "    }\n",
       "</style>\n",
       "<table border=\"1\" class=\"dataframe\">\n",
       "  <thead>\n",
       "    <tr style=\"text-align: right;\">\n",
       "      <th></th>\n",
       "      <th>income</th>\n",
       "      <th>marital_status</th>\n",
       "      <th>vintage</th>\n",
       "      <th>claim_amount</th>\n",
       "      <th>num_policies</th>\n",
       "      <th>type_of_policy</th>\n",
       "      <th>cltv</th>\n",
       "      <th>gender_Female</th>\n",
       "      <th>gender_Male</th>\n",
       "      <th>area_Rural</th>\n",
       "      <th>area_Urban</th>\n",
       "      <th>qualification_Bachelor</th>\n",
       "      <th>qualification_High School</th>\n",
       "      <th>qualification_Others</th>\n",
       "      <th>policy_A</th>\n",
       "      <th>policy_B</th>\n",
       "      <th>policy_C</th>\n",
       "    </tr>\n",
       "  </thead>\n",
       "  <tbody>\n",
       "    <tr>\n",
       "      <th>0</th>\n",
       "      <td>-0.096748</td>\n",
       "      <td>1</td>\n",
       "      <td>0.176531</td>\n",
       "      <td>0.440940</td>\n",
       "      <td>1</td>\n",
       "      <td>0.849352</td>\n",
       "      <td>64308</td>\n",
       "      <td>0</td>\n",
       "      <td>1</td>\n",
       "      <td>0</td>\n",
       "      <td>1</td>\n",
       "      <td>1</td>\n",
       "      <td>0</td>\n",
       "      <td>0</td>\n",
       "      <td>1</td>\n",
       "      <td>0</td>\n",
       "      <td>0</td>\n",
       "    </tr>\n",
       "    <tr>\n",
       "      <th>1</th>\n",
       "      <td>-0.096748</td>\n",
       "      <td>0</td>\n",
       "      <td>1.486327</td>\n",
       "      <td>0.223305</td>\n",
       "      <td>1</td>\n",
       "      <td>0.849352</td>\n",
       "      <td>515400</td>\n",
       "      <td>0</td>\n",
       "      <td>1</td>\n",
       "      <td>1</td>\n",
       "      <td>0</td>\n",
       "      <td>0</td>\n",
       "      <td>1</td>\n",
       "      <td>0</td>\n",
       "      <td>1</td>\n",
       "      <td>0</td>\n",
       "      <td>0</td>\n",
       "    </tr>\n",
       "    <tr>\n",
       "      <th>2</th>\n",
       "      <td>-0.096748</td>\n",
       "      <td>1</td>\n",
       "      <td>1.486327</td>\n",
       "      <td>-0.537192</td>\n",
       "      <td>1</td>\n",
       "      <td>0.849352</td>\n",
       "      <td>64212</td>\n",
       "      <td>0</td>\n",
       "      <td>1</td>\n",
       "      <td>0</td>\n",
       "      <td>1</td>\n",
       "      <td>1</td>\n",
       "      <td>0</td>\n",
       "      <td>0</td>\n",
       "      <td>1</td>\n",
       "      <td>0</td>\n",
       "      <td>0</td>\n",
       "    </tr>\n",
       "    <tr>\n",
       "      <th>3</th>\n",
       "      <td>-0.096748</td>\n",
       "      <td>0</td>\n",
       "      <td>1.049728</td>\n",
       "      <td>-1.333859</td>\n",
       "      <td>1</td>\n",
       "      <td>0.849352</td>\n",
       "      <td>97920</td>\n",
       "      <td>1</td>\n",
       "      <td>0</td>\n",
       "      <td>1</td>\n",
       "      <td>0</td>\n",
       "      <td>0</td>\n",
       "      <td>1</td>\n",
       "      <td>0</td>\n",
       "      <td>1</td>\n",
       "      <td>0</td>\n",
       "      <td>0</td>\n",
       "    </tr>\n",
       "    <tr>\n",
       "      <th>4</th>\n",
       "      <td>2.058917</td>\n",
       "      <td>1</td>\n",
       "      <td>0.613129</td>\n",
       "      <td>-0.258557</td>\n",
       "      <td>1</td>\n",
       "      <td>-0.363395</td>\n",
       "      <td>59736</td>\n",
       "      <td>0</td>\n",
       "      <td>1</td>\n",
       "      <td>0</td>\n",
       "      <td>1</td>\n",
       "      <td>0</td>\n",
       "      <td>1</td>\n",
       "      <td>0</td>\n",
       "      <td>1</td>\n",
       "      <td>0</td>\n",
       "      <td>0</td>\n",
       "    </tr>\n",
       "  </tbody>\n",
       "</table>\n",
       "</div>"
      ],
      "text/plain": [
       "     income  marital_status   vintage  claim_amount  num_policies  \\\n",
       "0 -0.096748               1  0.176531      0.440940             1   \n",
       "1 -0.096748               0  1.486327      0.223305             1   \n",
       "2 -0.096748               1  1.486327     -0.537192             1   \n",
       "3 -0.096748               0  1.049728     -1.333859             1   \n",
       "4  2.058917               1  0.613129     -0.258557             1   \n",
       "\n",
       "   type_of_policy    cltv  gender_Female  gender_Male  area_Rural  area_Urban  \\\n",
       "0        0.849352   64308              0            1           0           1   \n",
       "1        0.849352  515400              0            1           1           0   \n",
       "2        0.849352   64212              0            1           0           1   \n",
       "3        0.849352   97920              1            0           1           0   \n",
       "4       -0.363395   59736              0            1           0           1   \n",
       "\n",
       "   qualification_Bachelor  qualification_High School  qualification_Others  \\\n",
       "0                       1                          0                     0   \n",
       "1                       0                          1                     0   \n",
       "2                       1                          0                     0   \n",
       "3                       0                          1                     0   \n",
       "4                       0                          1                     0   \n",
       "\n",
       "   policy_A  policy_B  policy_C  \n",
       "0         1         0         0  \n",
       "1         1         0         0  \n",
       "2         1         0         0  \n",
       "3         1         0         0  \n",
       "4         1         0         0  "
      ]
     },
     "execution_count": 75,
     "metadata": {},
     "output_type": "execute_result"
    }
   ],
   "source": [
    "X.head()"
   ]
  },
  {
   "cell_type": "code",
   "execution_count": 76,
   "metadata": {},
   "outputs": [
    {
     "name": "stdout",
     "output_type": "stream",
     "text": [
      "(89392, 17)\n"
     ]
    }
   ],
   "source": [
    "print(X.shape)"
   ]
  },
  {
   "cell_type": "code",
   "execution_count": 77,
   "metadata": {},
   "outputs": [
    {
     "name": "stdout",
     "output_type": "stream",
     "text": [
      "0    0\n",
      "1    1\n",
      "2    0\n",
      "3    1\n",
      "4    0\n",
      "Name: Prominence, dtype: int64\n"
     ]
    }
   ],
   "source": [
    "print(y.head())"
   ]
  },
  {
   "cell_type": "code",
   "execution_count": 78,
   "metadata": {},
   "outputs": [
    {
     "name": "stdout",
     "output_type": "stream",
     "text": [
      "(89392,)\n"
     ]
    }
   ],
   "source": [
    "print(y.shape)"
   ]
  },
  {
   "cell_type": "code",
   "execution_count": 79,
   "metadata": {},
   "outputs": [],
   "source": [
    "X_train, X_val, y_train, y_val = train_test_split(X, y, test_size=0.3, random_state=42)"
   ]
  },
  {
   "cell_type": "code",
   "execution_count": 80,
   "metadata": {},
   "outputs": [
    {
     "name": "stdout",
     "output_type": "stream",
     "text": [
      "(62574, 17)\n",
      "(26818, 17)\n",
      "(62574,)\n",
      "(26818,)\n"
     ]
    }
   ],
   "source": [
    "print(X_train.shape)\n",
    "print(X_val.shape)\n",
    "print(y_train.shape)\n",
    "print(y_val.shape)"
   ]
  },
  {
   "cell_type": "code",
   "execution_count": 82,
   "metadata": {},
   "outputs": [
    {
     "name": "stderr",
     "output_type": "stream",
     "text": [
      "c:\\Users\\amgot\\AppData\\Local\\Programs\\Python\\Python310\\lib\\site-packages\\keras\\src\\layers\\core\\dense.py:87: UserWarning: Do not pass an `input_shape`/`input_dim` argument to a layer. When using Sequential models, prefer using an `Input(shape)` object as the first layer in the model instead.\n",
      "  super().__init__(activity_regularizer=activity_regularizer, **kwargs)\n"
     ]
    },
    {
     "data": {
      "text/html": [
       "<pre style=\"white-space:pre;overflow-x:auto;line-height:normal;font-family:Menlo,'DejaVu Sans Mono',consolas,'Courier New',monospace\"><span style=\"font-weight: bold\">Model: \"sequential_2\"</span>\n",
       "</pre>\n"
      ],
      "text/plain": [
       "\u001b[1mModel: \"sequential_2\"\u001b[0m\n"
      ]
     },
     "metadata": {},
     "output_type": "display_data"
    },
    {
     "data": {
      "text/html": [
       "<pre style=\"white-space:pre;overflow-x:auto;line-height:normal;font-family:Menlo,'DejaVu Sans Mono',consolas,'Courier New',monospace\">┏━━━━━━━━━━━━━━━━━━━━━━━━━━━━━━━━━┳━━━━━━━━━━━━━━━━━━━━━━━━┳━━━━━━━━━━━━━━━┓\n",
       "┃<span style=\"font-weight: bold\"> Layer (type)                    </span>┃<span style=\"font-weight: bold\"> Output Shape           </span>┃<span style=\"font-weight: bold\">       Param # </span>┃\n",
       "┡━━━━━━━━━━━━━━━━━━━━━━━━━━━━━━━━━╇━━━━━━━━━━━━━━━━━━━━━━━━╇━━━━━━━━━━━━━━━┩\n",
       "│ dense_8 (<span style=\"color: #0087ff; text-decoration-color: #0087ff\">Dense</span>)                 │ (<span style=\"color: #00d7ff; text-decoration-color: #00d7ff\">None</span>, <span style=\"color: #00af00; text-decoration-color: #00af00\">64</span>)             │         <span style=\"color: #00af00; text-decoration-color: #00af00\">1,152</span> │\n",
       "├─────────────────────────────────┼────────────────────────┼───────────────┤\n",
       "│ dense_9 (<span style=\"color: #0087ff; text-decoration-color: #0087ff\">Dense</span>)                 │ (<span style=\"color: #00d7ff; text-decoration-color: #00d7ff\">None</span>, <span style=\"color: #00af00; text-decoration-color: #00af00\">32</span>)             │         <span style=\"color: #00af00; text-decoration-color: #00af00\">2,080</span> │\n",
       "├─────────────────────────────────┼────────────────────────┼───────────────┤\n",
       "│ dropout_2 (<span style=\"color: #0087ff; text-decoration-color: #0087ff\">Dropout</span>)             │ (<span style=\"color: #00d7ff; text-decoration-color: #00d7ff\">None</span>, <span style=\"color: #00af00; text-decoration-color: #00af00\">32</span>)             │             <span style=\"color: #00af00; text-decoration-color: #00af00\">0</span> │\n",
       "├─────────────────────────────────┼────────────────────────┼───────────────┤\n",
       "│ dense_10 (<span style=\"color: #0087ff; text-decoration-color: #0087ff\">Dense</span>)                │ (<span style=\"color: #00d7ff; text-decoration-color: #00d7ff\">None</span>, <span style=\"color: #00af00; text-decoration-color: #00af00\">16</span>)             │           <span style=\"color: #00af00; text-decoration-color: #00af00\">528</span> │\n",
       "├─────────────────────────────────┼────────────────────────┼───────────────┤\n",
       "│ dense_11 (<span style=\"color: #0087ff; text-decoration-color: #0087ff\">Dense</span>)                │ (<span style=\"color: #00d7ff; text-decoration-color: #00d7ff\">None</span>, <span style=\"color: #00af00; text-decoration-color: #00af00\">1</span>)              │            <span style=\"color: #00af00; text-decoration-color: #00af00\">17</span> │\n",
       "└─────────────────────────────────┴────────────────────────┴───────────────┘\n",
       "</pre>\n"
      ],
      "text/plain": [
       "┏━━━━━━━━━━━━━━━━━━━━━━━━━━━━━━━━━┳━━━━━━━━━━━━━━━━━━━━━━━━┳━━━━━━━━━━━━━━━┓\n",
       "┃\u001b[1m \u001b[0m\u001b[1mLayer (type)                   \u001b[0m\u001b[1m \u001b[0m┃\u001b[1m \u001b[0m\u001b[1mOutput Shape          \u001b[0m\u001b[1m \u001b[0m┃\u001b[1m \u001b[0m\u001b[1m      Param #\u001b[0m\u001b[1m \u001b[0m┃\n",
       "┡━━━━━━━━━━━━━━━━━━━━━━━━━━━━━━━━━╇━━━━━━━━━━━━━━━━━━━━━━━━╇━━━━━━━━━━━━━━━┩\n",
       "│ dense_8 (\u001b[38;5;33mDense\u001b[0m)                 │ (\u001b[38;5;45mNone\u001b[0m, \u001b[38;5;34m64\u001b[0m)             │         \u001b[38;5;34m1,152\u001b[0m │\n",
       "├─────────────────────────────────┼────────────────────────┼───────────────┤\n",
       "│ dense_9 (\u001b[38;5;33mDense\u001b[0m)                 │ (\u001b[38;5;45mNone\u001b[0m, \u001b[38;5;34m32\u001b[0m)             │         \u001b[38;5;34m2,080\u001b[0m │\n",
       "├─────────────────────────────────┼────────────────────────┼───────────────┤\n",
       "│ dropout_2 (\u001b[38;5;33mDropout\u001b[0m)             │ (\u001b[38;5;45mNone\u001b[0m, \u001b[38;5;34m32\u001b[0m)             │             \u001b[38;5;34m0\u001b[0m │\n",
       "├─────────────────────────────────┼────────────────────────┼───────────────┤\n",
       "│ dense_10 (\u001b[38;5;33mDense\u001b[0m)                │ (\u001b[38;5;45mNone\u001b[0m, \u001b[38;5;34m16\u001b[0m)             │           \u001b[38;5;34m528\u001b[0m │\n",
       "├─────────────────────────────────┼────────────────────────┼───────────────┤\n",
       "│ dense_11 (\u001b[38;5;33mDense\u001b[0m)                │ (\u001b[38;5;45mNone\u001b[0m, \u001b[38;5;34m1\u001b[0m)              │            \u001b[38;5;34m17\u001b[0m │\n",
       "└─────────────────────────────────┴────────────────────────┴───────────────┘\n"
      ]
     },
     "metadata": {},
     "output_type": "display_data"
    },
    {
     "data": {
      "text/html": [
       "<pre style=\"white-space:pre;overflow-x:auto;line-height:normal;font-family:Menlo,'DejaVu Sans Mono',consolas,'Courier New',monospace\"><span style=\"font-weight: bold\"> Total params: </span><span style=\"color: #00af00; text-decoration-color: #00af00\">3,777</span> (14.75 KB)\n",
       "</pre>\n"
      ],
      "text/plain": [
       "\u001b[1m Total params: \u001b[0m\u001b[38;5;34m3,777\u001b[0m (14.75 KB)\n"
      ]
     },
     "metadata": {},
     "output_type": "display_data"
    },
    {
     "data": {
      "text/html": [
       "<pre style=\"white-space:pre;overflow-x:auto;line-height:normal;font-family:Menlo,'DejaVu Sans Mono',consolas,'Courier New',monospace\"><span style=\"font-weight: bold\"> Trainable params: </span><span style=\"color: #00af00; text-decoration-color: #00af00\">3,777</span> (14.75 KB)\n",
       "</pre>\n"
      ],
      "text/plain": [
       "\u001b[1m Trainable params: \u001b[0m\u001b[38;5;34m3,777\u001b[0m (14.75 KB)\n"
      ]
     },
     "metadata": {},
     "output_type": "display_data"
    },
    {
     "data": {
      "text/html": [
       "<pre style=\"white-space:pre;overflow-x:auto;line-height:normal;font-family:Menlo,'DejaVu Sans Mono',consolas,'Courier New',monospace\"><span style=\"font-weight: bold\"> Non-trainable params: </span><span style=\"color: #00af00; text-decoration-color: #00af00\">0</span> (0.00 B)\n",
       "</pre>\n"
      ],
      "text/plain": [
       "\u001b[1m Non-trainable params: \u001b[0m\u001b[38;5;34m0\u001b[0m (0.00 B)\n"
      ]
     },
     "metadata": {},
     "output_type": "display_data"
    },
    {
     "name": "stdout",
     "output_type": "stream",
     "text": [
      "Epoch 1/50\n",
      "\u001b[1m1956/1956\u001b[0m \u001b[32m━━━━━━━━━━━━━━━━━━━━\u001b[0m\u001b[37m\u001b[0m \u001b[1m20s\u001b[0m 7ms/step - accuracy: 0.6193 - loss: 97.5283 - val_accuracy: 0.8325 - val_loss: 0.4033\n",
      "Epoch 2/50\n",
      "\u001b[1m1956/1956\u001b[0m \u001b[32m━━━━━━━━━━━━━━━━━━━━\u001b[0m\u001b[37m\u001b[0m \u001b[1m13s\u001b[0m 7ms/step - accuracy: 0.8777 - loss: 0.3731 - val_accuracy: 0.8503 - val_loss: 0.3136\n",
      "Epoch 3/50\n",
      "\u001b[1m1956/1956\u001b[0m \u001b[32m━━━━━━━━━━━━━━━━━━━━\u001b[0m\u001b[37m\u001b[0m \u001b[1m13s\u001b[0m 7ms/step - accuracy: 0.8695 - loss: 0.3463 - val_accuracy: 0.8520 - val_loss: 0.2902\n",
      "Epoch 4/50\n",
      "\u001b[1m1956/1956\u001b[0m \u001b[32m━━━━━━━━━━━━━━━━━━━━\u001b[0m\u001b[37m\u001b[0m \u001b[1m13s\u001b[0m 6ms/step - accuracy: 0.7904 - loss: 0.4887 - val_accuracy: 0.7677 - val_loss: 0.4212\n",
      "Epoch 5/50\n",
      "\u001b[1m1956/1956\u001b[0m \u001b[32m━━━━━━━━━━━━━━━━━━━━\u001b[0m\u001b[37m\u001b[0m \u001b[1m13s\u001b[0m 7ms/step - accuracy: 0.7824 - loss: 0.4280 - val_accuracy: 0.7312 - val_loss: 0.4489\n",
      "Epoch 6/50\n",
      "\u001b[1m1956/1956\u001b[0m \u001b[32m━━━━━━━━━━━━━━━━━━━━\u001b[0m\u001b[37m\u001b[0m \u001b[1m14s\u001b[0m 7ms/step - accuracy: 0.7890 - loss: 0.4037 - val_accuracy: 0.8676 - val_loss: 0.2728\n",
      "Epoch 7/50\n",
      "\u001b[1m1956/1956\u001b[0m \u001b[32m━━━━━━━━━━━━━━━━━━━━\u001b[0m\u001b[37m\u001b[0m \u001b[1m14s\u001b[0m 7ms/step - accuracy: 0.7912 - loss: 0.3881 - val_accuracy: 0.8521 - val_loss: 0.2809\n",
      "Epoch 8/50\n",
      "\u001b[1m1956/1956\u001b[0m \u001b[32m━━━━━━━━━━━━━━━━━━━━\u001b[0m\u001b[37m\u001b[0m \u001b[1m14s\u001b[0m 7ms/step - accuracy: 0.7947 - loss: 0.3754 - val_accuracy: 0.7994 - val_loss: 0.4139\n",
      "Epoch 9/50\n",
      "\u001b[1m1956/1956\u001b[0m \u001b[32m━━━━━━━━━━━━━━━━━━━━\u001b[0m\u001b[37m\u001b[0m \u001b[1m14s\u001b[0m 7ms/step - accuracy: 0.7535 - loss: 0.4719 - val_accuracy: 0.5007 - val_loss: 0.6931\n",
      "Epoch 10/50\n",
      "\u001b[1m1956/1956\u001b[0m \u001b[32m━━━━━━━━━━━━━━━━━━━━\u001b[0m\u001b[37m\u001b[0m \u001b[1m21s\u001b[0m 7ms/step - accuracy: 0.5017 - loss: 0.6932 - val_accuracy: 0.4993 - val_loss: 0.6932\n",
      "Epoch 11/50\n",
      "\u001b[1m1956/1956\u001b[0m \u001b[32m━━━━━━━━━━━━━━━━━━━━\u001b[0m\u001b[37m\u001b[0m \u001b[1m14s\u001b[0m 7ms/step - accuracy: 0.5015 - loss: 0.6932 - val_accuracy: 0.5007 - val_loss: 0.6932\n",
      "Epoch 12/50\n",
      "\u001b[1m1956/1956\u001b[0m \u001b[32m━━━━━━━━━━━━━━━━━━━━\u001b[0m\u001b[37m\u001b[0m \u001b[1m14s\u001b[0m 7ms/step - accuracy: 0.5012 - loss: 0.6932 - val_accuracy: 0.5007 - val_loss: 0.6932\n",
      "Epoch 13/50\n",
      "\u001b[1m1956/1956\u001b[0m \u001b[32m━━━━━━━━━━━━━━━━━━━━\u001b[0m\u001b[37m\u001b[0m \u001b[1m14s\u001b[0m 7ms/step - accuracy: 0.5013 - loss: 0.6932 - val_accuracy: 0.4993 - val_loss: 0.6932\n",
      "Epoch 14/50\n",
      "\u001b[1m1956/1956\u001b[0m \u001b[32m━━━━━━━━━━━━━━━━━━━━\u001b[0m\u001b[37m\u001b[0m \u001b[1m14s\u001b[0m 7ms/step - accuracy: 0.5034 - loss: 0.6931 - val_accuracy: 0.5007 - val_loss: 0.6931\n",
      "Epoch 15/50\n",
      "\u001b[1m1956/1956\u001b[0m \u001b[32m━━━━━━━━━━━━━━━━━━━━\u001b[0m\u001b[37m\u001b[0m \u001b[1m14s\u001b[0m 7ms/step - accuracy: 0.5028 - loss: 0.6932 - val_accuracy: 0.4993 - val_loss: 0.6932\n",
      "Epoch 16/50\n",
      "\u001b[1m1956/1956\u001b[0m \u001b[32m━━━━━━━━━━━━━━━━━━━━\u001b[0m\u001b[37m\u001b[0m \u001b[1m21s\u001b[0m 7ms/step - accuracy: 0.5010 - loss: 0.6932 - val_accuracy: 0.4993 - val_loss: 0.6932\n",
      "Epoch 17/50\n",
      "\u001b[1m1956/1956\u001b[0m \u001b[32m━━━━━━━━━━━━━━━━━━━━\u001b[0m\u001b[37m\u001b[0m \u001b[1m25s\u001b[0m 9ms/step - accuracy: 0.5012 - loss: 0.6932 - val_accuracy: 0.4993 - val_loss: 0.6932\n",
      "Epoch 18/50\n",
      "\u001b[1m1956/1956\u001b[0m \u001b[32m━━━━━━━━━━━━━━━━━━━━\u001b[0m\u001b[37m\u001b[0m \u001b[1m17s\u001b[0m 7ms/step - accuracy: 0.5018 - loss: 0.6932 - val_accuracy: 0.5007 - val_loss: 0.6931\n",
      "Epoch 19/50\n",
      "\u001b[1m1956/1956\u001b[0m \u001b[32m━━━━━━━━━━━━━━━━━━━━\u001b[0m\u001b[37m\u001b[0m \u001b[1m21s\u001b[0m 8ms/step - accuracy: 0.5011 - loss: 0.6932 - val_accuracy: 0.4993 - val_loss: 0.6932\n",
      "Epoch 20/50\n",
      "\u001b[1m1956/1956\u001b[0m \u001b[32m━━━━━━━━━━━━━━━━━━━━\u001b[0m\u001b[37m\u001b[0m \u001b[1m14s\u001b[0m 7ms/step - accuracy: 0.5018 - loss: 0.6932 - val_accuracy: 0.5007 - val_loss: 0.6932\n",
      "Epoch 21/50\n",
      "\u001b[1m1956/1956\u001b[0m \u001b[32m━━━━━━━━━━━━━━━━━━━━\u001b[0m\u001b[37m\u001b[0m \u001b[1m21s\u001b[0m 8ms/step - accuracy: 0.5010 - loss: 0.6932 - val_accuracy: 0.4993 - val_loss: 0.6932\n",
      "Epoch 22/50\n",
      "\u001b[1m1956/1956\u001b[0m \u001b[32m━━━━━━━━━━━━━━━━━━━━\u001b[0m\u001b[37m\u001b[0m \u001b[1m14s\u001b[0m 7ms/step - accuracy: 0.4987 - loss: 0.6932 - val_accuracy: 0.5007 - val_loss: 0.6932\n",
      "Epoch 23/50\n",
      "\u001b[1m1956/1956\u001b[0m \u001b[32m━━━━━━━━━━━━━━━━━━━━\u001b[0m\u001b[37m\u001b[0m \u001b[1m15s\u001b[0m 8ms/step - accuracy: 0.4988 - loss: 0.6932 - val_accuracy: 0.5007 - val_loss: 0.6932\n",
      "Epoch 24/50\n",
      "\u001b[1m1956/1956\u001b[0m \u001b[32m━━━━━━━━━━━━━━━━━━━━\u001b[0m\u001b[37m\u001b[0m \u001b[1m14s\u001b[0m 7ms/step - accuracy: 0.4960 - loss: 0.6932 - val_accuracy: 0.4993 - val_loss: 0.6931\n",
      "Epoch 25/50\n",
      "\u001b[1m1956/1956\u001b[0m \u001b[32m━━━━━━━━━━━━━━━━━━━━\u001b[0m\u001b[37m\u001b[0m \u001b[1m15s\u001b[0m 8ms/step - accuracy: 0.4972 - loss: 0.6932 - val_accuracy: 0.5007 - val_loss: 0.6931\n",
      "Epoch 26/50\n",
      "\u001b[1m1956/1956\u001b[0m \u001b[32m━━━━━━━━━━━━━━━━━━━━\u001b[0m\u001b[37m\u001b[0m \u001b[1m15s\u001b[0m 7ms/step - accuracy: 0.5002 - loss: 0.6932 - val_accuracy: 0.4993 - val_loss: 0.6932\n",
      "Epoch 27/50\n",
      "\u001b[1m1956/1956\u001b[0m \u001b[32m━━━━━━━━━━━━━━━━━━━━\u001b[0m\u001b[37m\u001b[0m \u001b[1m14s\u001b[0m 7ms/step - accuracy: 0.5028 - loss: 0.6932 - val_accuracy: 0.4993 - val_loss: 0.6932\n",
      "Epoch 28/50\n",
      "\u001b[1m1956/1956\u001b[0m \u001b[32m━━━━━━━━━━━━━━━━━━━━\u001b[0m\u001b[37m\u001b[0m \u001b[1m13s\u001b[0m 7ms/step - accuracy: 0.5009 - loss: 0.6932 - val_accuracy: 0.4993 - val_loss: 0.6932\n",
      "Epoch 29/50\n",
      "\u001b[1m1956/1956\u001b[0m \u001b[32m━━━━━━━━━━━━━━━━━━━━\u001b[0m\u001b[37m\u001b[0m \u001b[1m14s\u001b[0m 7ms/step - accuracy: 0.4993 - loss: 0.6932 - val_accuracy: 0.4993 - val_loss: 0.6932\n",
      "Epoch 30/50\n",
      "\u001b[1m1956/1956\u001b[0m \u001b[32m━━━━━━━━━━━━━━━━━━━━\u001b[0m\u001b[37m\u001b[0m \u001b[1m14s\u001b[0m 7ms/step - accuracy: 0.5005 - loss: 0.6932 - val_accuracy: 0.4993 - val_loss: 0.6932\n",
      "Epoch 31/50\n",
      "\u001b[1m1956/1956\u001b[0m \u001b[32m━━━━━━━━━━━━━━━━━━━━\u001b[0m\u001b[37m\u001b[0m \u001b[1m15s\u001b[0m 8ms/step - accuracy: 0.5008 - loss: 0.6932 - val_accuracy: 0.5007 - val_loss: 0.6931\n",
      "Epoch 32/50\n",
      "\u001b[1m1956/1956\u001b[0m \u001b[32m━━━━━━━━━━━━━━━━━━━━\u001b[0m\u001b[37m\u001b[0m \u001b[1m14s\u001b[0m 7ms/step - accuracy: 0.5014 - loss: 0.6932 - val_accuracy: 0.4993 - val_loss: 0.6932\n",
      "Epoch 33/50\n",
      "\u001b[1m1956/1956\u001b[0m \u001b[32m━━━━━━━━━━━━━━━━━━━━\u001b[0m\u001b[37m\u001b[0m \u001b[1m15s\u001b[0m 8ms/step - accuracy: 0.5049 - loss: 0.6931 - val_accuracy: 0.5007 - val_loss: 0.6931\n",
      "Epoch 34/50\n",
      "\u001b[1m1956/1956\u001b[0m \u001b[32m━━━━━━━━━━━━━━━━━━━━\u001b[0m\u001b[37m\u001b[0m \u001b[1m14s\u001b[0m 7ms/step - accuracy: 0.5029 - loss: 0.6932 - val_accuracy: 0.4993 - val_loss: 0.6932\n",
      "Epoch 35/50\n",
      "\u001b[1m1956/1956\u001b[0m \u001b[32m━━━━━━━━━━━━━━━━━━━━\u001b[0m\u001b[37m\u001b[0m \u001b[1m16s\u001b[0m 8ms/step - accuracy: 0.5012 - loss: 0.6932 - val_accuracy: 0.4993 - val_loss: 0.6932\n",
      "Epoch 36/50\n",
      "\u001b[1m1956/1956\u001b[0m \u001b[32m━━━━━━━━━━━━━━━━━━━━\u001b[0m\u001b[37m\u001b[0m \u001b[1m19s\u001b[0m 7ms/step - accuracy: 0.4975 - loss: 0.6932 - val_accuracy: 0.4993 - val_loss: 0.6931\n",
      "Epoch 37/50\n",
      "\u001b[1m1956/1956\u001b[0m \u001b[32m━━━━━━━━━━━━━━━━━━━━\u001b[0m\u001b[37m\u001b[0m \u001b[1m13s\u001b[0m 7ms/step - accuracy: 0.5035 - loss: 0.6932 - val_accuracy: 0.4993 - val_loss: 0.6932\n",
      "Epoch 38/50\n",
      "\u001b[1m1956/1956\u001b[0m \u001b[32m━━━━━━━━━━━━━━━━━━━━\u001b[0m\u001b[37m\u001b[0m \u001b[1m14s\u001b[0m 7ms/step - accuracy: 0.4988 - loss: 0.6932 - val_accuracy: 0.5007 - val_loss: 0.6932\n",
      "Epoch 39/50\n",
      "\u001b[1m1956/1956\u001b[0m \u001b[32m━━━━━━━━━━━━━━━━━━━━\u001b[0m\u001b[37m\u001b[0m \u001b[1m22s\u001b[0m 7ms/step - accuracy: 0.4985 - loss: 0.6932 - val_accuracy: 0.5007 - val_loss: 0.6931\n",
      "Epoch 40/50\n",
      "\u001b[1m1956/1956\u001b[0m \u001b[32m━━━━━━━━━━━━━━━━━━━━\u001b[0m\u001b[37m\u001b[0m \u001b[1m17s\u001b[0m 9ms/step - accuracy: 0.4979 - loss: 0.6932 - val_accuracy: 0.4993 - val_loss: 0.6932\n",
      "Epoch 41/50\n",
      "\u001b[1m1956/1956\u001b[0m \u001b[32m━━━━━━━━━━━━━━━━━━━━\u001b[0m\u001b[37m\u001b[0m \u001b[1m14s\u001b[0m 7ms/step - accuracy: 0.4986 - loss: 0.6932 - val_accuracy: 0.4993 - val_loss: 0.6932\n",
      "Epoch 42/50\n",
      "\u001b[1m1956/1956\u001b[0m \u001b[32m━━━━━━━━━━━━━━━━━━━━\u001b[0m\u001b[37m\u001b[0m \u001b[1m14s\u001b[0m 7ms/step - accuracy: 0.4941 - loss: 0.6932 - val_accuracy: 0.4993 - val_loss: 0.6932\n",
      "Epoch 43/50\n",
      "\u001b[1m1956/1956\u001b[0m \u001b[32m━━━━━━━━━━━━━━━━━━━━\u001b[0m\u001b[37m\u001b[0m \u001b[1m13s\u001b[0m 7ms/step - accuracy: 0.4998 - loss: 0.6932 - val_accuracy: 0.4993 - val_loss: 0.6932\n",
      "Epoch 44/50\n",
      "\u001b[1m1956/1956\u001b[0m \u001b[32m━━━━━━━━━━━━━━━━━━━━\u001b[0m\u001b[37m\u001b[0m \u001b[1m20s\u001b[0m 7ms/step - accuracy: 0.5028 - loss: 0.6931 - val_accuracy: 0.4993 - val_loss: 0.6931\n",
      "Epoch 45/50\n",
      "\u001b[1m1956/1956\u001b[0m \u001b[32m━━━━━━━━━━━━━━━━━━━━\u001b[0m\u001b[37m\u001b[0m \u001b[1m12s\u001b[0m 6ms/step - accuracy: 0.5022 - loss: 0.6932 - val_accuracy: 0.4993 - val_loss: 0.6932\n",
      "Epoch 46/50\n",
      "\u001b[1m1956/1956\u001b[0m \u001b[32m━━━━━━━━━━━━━━━━━━━━\u001b[0m\u001b[37m\u001b[0m \u001b[1m23s\u001b[0m 7ms/step - accuracy: 0.4986 - loss: 0.6932 - val_accuracy: 0.5007 - val_loss: 0.6931\n",
      "Epoch 47/50\n",
      "\u001b[1m1956/1956\u001b[0m \u001b[32m━━━━━━━━━━━━━━━━━━━━\u001b[0m\u001b[37m\u001b[0m \u001b[1m12s\u001b[0m 6ms/step - accuracy: 0.4954 - loss: 0.6932 - val_accuracy: 0.4993 - val_loss: 0.6932\n",
      "Epoch 48/50\n",
      "\u001b[1m1956/1956\u001b[0m \u001b[32m━━━━━━━━━━━━━━━━━━━━\u001b[0m\u001b[37m\u001b[0m \u001b[1m14s\u001b[0m 7ms/step - accuracy: 0.5014 - loss: 0.6932 - val_accuracy: 0.5007 - val_loss: 0.6931\n",
      "Epoch 49/50\n",
      "\u001b[1m1956/1956\u001b[0m \u001b[32m━━━━━━━━━━━━━━━━━━━━\u001b[0m\u001b[37m\u001b[0m \u001b[1m13s\u001b[0m 7ms/step - accuracy: 0.4948 - loss: 0.6932 - val_accuracy: 0.5007 - val_loss: 0.6931\n",
      "Epoch 50/50\n",
      "\u001b[1m1956/1956\u001b[0m \u001b[32m━━━━━━━━━━━━━━━━━━━━\u001b[0m\u001b[37m\u001b[0m \u001b[1m14s\u001b[0m 7ms/step - accuracy: 0.4965 - loss: 0.6932 - val_accuracy: 0.5007 - val_loss: 0.6931\n"
     ]
    }
   ],
   "source": [
    "\n",
    "# Build the ANN model\n",
    "model = Sequential()\n",
    "\n",
    "# Input layer\n",
    "model.add(Dense(64, input_dim=X_train.shape[1], activation='relu'))\n",
    "\n",
    "# Hidden layers\n",
    "model.add(Dense(32, activation='relu'))\n",
    "model.add(Dropout(0.2))  # Dropout to prevent overfitting\n",
    "model.add(Dense(16, activation='relu'))\n",
    "\n",
    "# Output layer\n",
    "model.add(Dense(1, activation='sigmoid'))  # Sigmoid for binary classification\n",
    "\n",
    "# Compile the model\n",
    "model.compile(optimizer='adam', \n",
    "              loss='binary_crossentropy',  # Binary cross-entropy loss for classification\n",
    "              metrics=['accuracy'])\n",
    "\n",
    "# Print the model summary\n",
    "model.summary()\n",
    "\n",
    "# Train the model\n",
    "history = model.fit(X_train, y_train, \n",
    "                    validation_data=(X_val, y_val),\n",
    "                    epochs=50, \n",
    "                    batch_size=32, \n",
    "                    verbose=1)\n"
   ]
  },
  {
   "cell_type": "code",
   "execution_count": 56,
   "metadata": {},
   "outputs": [],
   "source": [
    "test_data['income'] = le.fit_transform(test_data['income'])\n",
    "test_data['type_of_policy'] = test_data['type_of_policy'].map({'Silver': 0, 'Gold': 1, 'Platinum': 2})\n",
    "test_data['num_policies'] = le.fit_transform(test_data['num_policies'])\n"
   ]
  },
  {
   "cell_type": "code",
   "execution_count": 55,
   "metadata": {},
   "outputs": [
    {
     "name": "stdout",
     "output_type": "stream",
     "text": [
      "income:  [1 0 3 2]\n",
      "Gender:  ['Female' 'Male']\n",
      "Area:   ['Rural' 'Urban']\n",
      "Marital status:  [0 1]\n",
      "Number of Policies:  ['More than 1' '1']\n",
      "policy:  ['B' 'A' 'C']\n",
      "Type of policy:  ['Silver' 'Platinum' 'Gold']\n",
      "Number of policies:  ['More than 1' '1']\n"
     ]
    }
   ],
   "source": [
    "print('income: ',test_data['income'].unique())\n",
    "print('Gender: ',test_data['gender'].unique())\n",
    "print('Area:  ',test_data['area'].unique())\n",
    "print('Marital status: ',test_data['marital_status'].unique())\n",
    "print('Number of Policies: ',test_data['num_policies'].unique())\n",
    "print('policy: ',test_data['policy'].unique())\n",
    "print('Type of policy: ',test_data['type_of_policy'].unique())\n",
    "print(\"Number of policies: \",test_data['num_policies'].unique())\n"
   ]
  },
  {
   "cell_type": "code",
   "execution_count": 60,
   "metadata": {},
   "outputs": [],
   "source": [
    "# Convert columns to strings (if they contain Boolean values)\n",
    "test_data['gender'] = test_data['gender'].astype(str)\n",
    "test_data['area'] = test_data['area'].astype(str)\n",
    "test_data['qualification'] = test_data['qualification'].astype(str)\n",
    "test_data['policy'] = test_data['policy'].astype(str)\n",
    "\n",
    "# Apply get_dummies\n",
    "test_data = pd.get_dummies(test_data, columns=['gender', 'area', 'qualification', 'policy'])\n"
   ]
  },
  {
   "cell_type": "code",
   "execution_count": 62,
   "metadata": {},
   "outputs": [
    {
     "name": "stderr",
     "output_type": "stream",
     "text": [
      "C:\\Users\\amgot\\AppData\\Local\\Temp\\ipykernel_11316\\822201456.py:1: FutureWarning: DataFrame.applymap has been deprecated. Use DataFrame.map instead.\n",
      "  test_data=test_data.applymap(lambda x:1 if x is True else (0 if x is False else x))\n"
     ]
    }
   ],
   "source": [
    "test_data=test_data.applymap(lambda x:1 if x is True else (0 if x is False else x))"
   ]
  },
  {
   "cell_type": "code",
   "execution_count": 72,
   "metadata": {},
   "outputs": [
    {
     "data": {
      "text/html": [
       "<div>\n",
       "<style scoped>\n",
       "    .dataframe tbody tr th:only-of-type {\n",
       "        vertical-align: middle;\n",
       "    }\n",
       "\n",
       "    .dataframe tbody tr th {\n",
       "        vertical-align: top;\n",
       "    }\n",
       "\n",
       "    .dataframe thead th {\n",
       "        text-align: right;\n",
       "    }\n",
       "</style>\n",
       "<table border=\"1\" class=\"dataframe\">\n",
       "  <thead>\n",
       "    <tr style=\"text-align: right;\">\n",
       "      <th></th>\n",
       "      <th>id</th>\n",
       "      <th>income</th>\n",
       "      <th>marital_status</th>\n",
       "      <th>vintage</th>\n",
       "      <th>claim_amount</th>\n",
       "      <th>num_policies</th>\n",
       "      <th>type_of_policy</th>\n",
       "      <th>gender_Female</th>\n",
       "      <th>gender_Male</th>\n",
       "      <th>area_Rural</th>\n",
       "      <th>area_Urban</th>\n",
       "      <th>qualification_Bachelor</th>\n",
       "      <th>qualification_High School</th>\n",
       "      <th>qualification_Others</th>\n",
       "      <th>policy_A</th>\n",
       "      <th>policy_B</th>\n",
       "      <th>policy_C</th>\n",
       "    </tr>\n",
       "  </thead>\n",
       "  <tbody>\n",
       "    <tr>\n",
       "      <th>0</th>\n",
       "      <td>89393</td>\n",
       "      <td>-0.100201</td>\n",
       "      <td>0</td>\n",
       "      <td>0.604469</td>\n",
       "      <td>-0.679572</td>\n",
       "      <td>1</td>\n",
       "      <td>-1.574316</td>\n",
       "      <td>1</td>\n",
       "      <td>0</td>\n",
       "      <td>1</td>\n",
       "      <td>0</td>\n",
       "      <td>0</td>\n",
       "      <td>1</td>\n",
       "      <td>0</td>\n",
       "      <td>0</td>\n",
       "      <td>1</td>\n",
       "      <td>0</td>\n",
       "    </tr>\n",
       "    <tr>\n",
       "      <th>1</th>\n",
       "      <td>89394</td>\n",
       "      <td>-1.176144</td>\n",
       "      <td>0</td>\n",
       "      <td>-0.271766</td>\n",
       "      <td>-0.081051</td>\n",
       "      <td>1</td>\n",
       "      <td>0.848443</td>\n",
       "      <td>1</td>\n",
       "      <td>0</td>\n",
       "      <td>0</td>\n",
       "      <td>1</td>\n",
       "      <td>0</td>\n",
       "      <td>1</td>\n",
       "      <td>0</td>\n",
       "      <td>1</td>\n",
       "      <td>0</td>\n",
       "      <td>0</td>\n",
       "    </tr>\n",
       "    <tr>\n",
       "      <th>2</th>\n",
       "      <td>89395</td>\n",
       "      <td>-0.100201</td>\n",
       "      <td>1</td>\n",
       "      <td>1.042587</td>\n",
       "      <td>-0.439008</td>\n",
       "      <td>1</td>\n",
       "      <td>-0.362936</td>\n",
       "      <td>0</td>\n",
       "      <td>1</td>\n",
       "      <td>1</td>\n",
       "      <td>0</td>\n",
       "      <td>0</td>\n",
       "      <td>1</td>\n",
       "      <td>0</td>\n",
       "      <td>0</td>\n",
       "      <td>1</td>\n",
       "      <td>0</td>\n",
       "    </tr>\n",
       "    <tr>\n",
       "      <th>3</th>\n",
       "      <td>89396</td>\n",
       "      <td>2.051685</td>\n",
       "      <td>1</td>\n",
       "      <td>-1.148001</td>\n",
       "      <td>-1.328578</td>\n",
       "      <td>1</td>\n",
       "      <td>-1.574316</td>\n",
       "      <td>1</td>\n",
       "      <td>0</td>\n",
       "      <td>1</td>\n",
       "      <td>0</td>\n",
       "      <td>1</td>\n",
       "      <td>0</td>\n",
       "      <td>0</td>\n",
       "      <td>0</td>\n",
       "      <td>1</td>\n",
       "      <td>0</td>\n",
       "    </tr>\n",
       "    <tr>\n",
       "      <th>4</th>\n",
       "      <td>89397</td>\n",
       "      <td>-1.176144</td>\n",
       "      <td>0</td>\n",
       "      <td>0.166352</td>\n",
       "      <td>2.947137</td>\n",
       "      <td>1</td>\n",
       "      <td>-1.574316</td>\n",
       "      <td>1</td>\n",
       "      <td>0</td>\n",
       "      <td>0</td>\n",
       "      <td>1</td>\n",
       "      <td>0</td>\n",
       "      <td>1</td>\n",
       "      <td>0</td>\n",
       "      <td>0</td>\n",
       "      <td>1</td>\n",
       "      <td>0</td>\n",
       "    </tr>\n",
       "  </tbody>\n",
       "</table>\n",
       "</div>"
      ],
      "text/plain": [
       "      id    income  marital_status   vintage  claim_amount  num_policies  \\\n",
       "0  89393 -0.100201               0  0.604469     -0.679572             1   \n",
       "1  89394 -1.176144               0 -0.271766     -0.081051             1   \n",
       "2  89395 -0.100201               1  1.042587     -0.439008             1   \n",
       "3  89396  2.051685               1 -1.148001     -1.328578             1   \n",
       "4  89397 -1.176144               0  0.166352      2.947137             1   \n",
       "\n",
       "   type_of_policy  gender_Female  gender_Male  area_Rural  area_Urban  \\\n",
       "0       -1.574316              1            0           1           0   \n",
       "1        0.848443              1            0           0           1   \n",
       "2       -0.362936              0            1           1           0   \n",
       "3       -1.574316              1            0           1           0   \n",
       "4       -1.574316              1            0           0           1   \n",
       "\n",
       "   qualification_Bachelor  qualification_High School  qualification_Others  \\\n",
       "0                       0                          1                     0   \n",
       "1                       0                          1                     0   \n",
       "2                       0                          1                     0   \n",
       "3                       1                          0                     0   \n",
       "4                       0                          1                     0   \n",
       "\n",
       "   policy_A  policy_B  policy_C  \n",
       "0         0         1         0  \n",
       "1         1         0         0  \n",
       "2         0         1         0  \n",
       "3         0         1         0  \n",
       "4         0         1         0  "
      ]
     },
     "execution_count": 72,
     "metadata": {},
     "output_type": "execute_result"
    }
   ],
   "source": [
    "test_data.head()"
   ]
  },
  {
   "cell_type": "code",
   "execution_count": null,
   "metadata": {},
   "outputs": [],
   "source": [
    "test_cols_to_scale=['claim_amount','income','vintage','type_of_policy']\n",
    "test_data[test_cols_to_scale]=scaler.fit_transform(test_data[test_cols_to_scale])"
   ]
  },
  {
   "cell_type": "code",
   "execution_count": 70,
   "metadata": {},
   "outputs": [],
   "source": [
    "xx_test = test_data.copy()"
   ]
  },
  {
   "cell_type": "code",
   "execution_count": 71,
   "metadata": {},
   "outputs": [],
   "source": [
    "xx_test = xx_test.drop(['id'], axis=1)"
   ]
  },
  {
   "cell_type": "code",
   "execution_count": 69,
   "metadata": {},
   "outputs": [
    {
     "name": "stdout",
     "output_type": "stream",
     "text": [
      "Model input shape: (None, 18)\n",
      "Test data shape: (59595, 16)\n"
     ]
    }
   ],
   "source": [
    "print(\"Model input shape:\", model.input_shape)\n",
    "print(\"Test data shape:\", X_test.shape)\n"
   ]
  }
 ],
 "metadata": {
  "kernelspec": {
   "display_name": "Python 3",
   "language": "python",
   "name": "python3"
  },
  "language_info": {
   "codemirror_mode": {
    "name": "ipython",
    "version": 3
   },
   "file_extension": ".py",
   "mimetype": "text/x-python",
   "name": "python",
   "nbconvert_exporter": "python",
   "pygments_lexer": "ipython3",
   "version": "3.10.8"
  }
 },
 "nbformat": 4,
 "nbformat_minor": 2
}
